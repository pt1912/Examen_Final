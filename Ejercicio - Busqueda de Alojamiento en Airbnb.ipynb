{
 "cells": [
  {
   "cell_type": "markdown",
   "id": "0bfbd411-528f-4dc6-9394-8b2e3055ed8a",
   "metadata": {},
   "source": [
    "# Ejercicio - Busqueda de Alojamiento en Airbnb"
   ]
  },
  {
   "cell_type": "code",
   "execution_count": 7,
   "id": "5bc07b79-a76e-4f0a-8150-67040b1662d9",
   "metadata": {},
   "outputs": [],
   "source": [
    "import pandas as pd\n",
    "data = pd.read_csv(\"./src/pandas/airbnb.csv\")"
   ]
  },
  {
   "cell_type": "markdown",
   "id": "9f7cea61-7cdc-45f9-b710-351d13d99ea2",
   "metadata": {},
   "source": [
    "## CASO 01"
   ]
  },
  {
   "cell_type": "markdown",
   "id": "25d5ce3a-db9c-4907-8c80-af0daeed1677",
   "metadata": {},
   "source": [
    "Alicia va a ir a Lisboa durante una semana con su marido y sus 2 hijos. Están buscando un apartamento con habitaciones separadas para los padres y los hijos. No les importa donde alojarse o el precio, simplemente quieren tener una experiencia agradable. Esto significa que solo aceptan lugares con más de 10 críticas con una puntuación mayor de 4. Cuando seleccionemos habitaciones para Alicia, tenemos que asegurarnos de ordenar las habitaciones de mejor a peor puntuación. Para aquellas habitaciones que tienen la misma puntuación, debemos mostrar antes aquellas con más críticas. Debemos darle 3 alternativas."
   ]
  },
  {
   "cell_type": "code",
   "execution_count": 8,
   "id": "05a548ed-96aa-42e7-a0f1-40e5f8f5df47",
   "metadata": {},
   "outputs": [
    {
     "data": {
      "text/html": [
       "<div>\n",
       "<style scoped>\n",
       "    .dataframe tbody tr th:only-of-type {\n",
       "        vertical-align: middle;\n",
       "    }\n",
       "\n",
       "    .dataframe tbody tr th {\n",
       "        vertical-align: top;\n",
       "    }\n",
       "\n",
       "    .dataframe thead th {\n",
       "        text-align: right;\n",
       "    }\n",
       "</style>\n",
       "<table border=\"1\" class=\"dataframe\">\n",
       "  <thead>\n",
       "    <tr style=\"text-align: right;\">\n",
       "      <th></th>\n",
       "      <th>room_id</th>\n",
       "      <th>host_id</th>\n",
       "      <th>room_type</th>\n",
       "      <th>neighborhood</th>\n",
       "      <th>reviews</th>\n",
       "      <th>overall_satisfaction</th>\n",
       "      <th>accommodates</th>\n",
       "      <th>bedrooms</th>\n",
       "      <th>price</th>\n",
       "    </tr>\n",
       "  </thead>\n",
       "  <tbody>\n",
       "    <tr>\n",
       "      <th>4627</th>\n",
       "      <td>7222452</td>\n",
       "      <td>36161241</td>\n",
       "      <td>Entire home/apt</td>\n",
       "      <td>Misericórdia</td>\n",
       "      <td>45</td>\n",
       "      <td>5.0</td>\n",
       "      <td>4</td>\n",
       "      <td>2.0</td>\n",
       "      <td>113.0</td>\n",
       "    </tr>\n",
       "    <tr>\n",
       "      <th>5538</th>\n",
       "      <td>9135994</td>\n",
       "      <td>34592928</td>\n",
       "      <td>Entire home/apt</td>\n",
       "      <td>Santa Maria Maior</td>\n",
       "      <td>42</td>\n",
       "      <td>5.0</td>\n",
       "      <td>4</td>\n",
       "      <td>2.0</td>\n",
       "      <td>80.0</td>\n",
       "    </tr>\n",
       "    <tr>\n",
       "      <th>5562</th>\n",
       "      <td>9193166</td>\n",
       "      <td>26494184</td>\n",
       "      <td>Entire home/apt</td>\n",
       "      <td>Santo António</td>\n",
       "      <td>36</td>\n",
       "      <td>5.0</td>\n",
       "      <td>4</td>\n",
       "      <td>2.0</td>\n",
       "      <td>85.0</td>\n",
       "    </tr>\n",
       "  </tbody>\n",
       "</table>\n",
       "</div>"
      ],
      "text/plain": [
       "      room_id   host_id        room_type       neighborhood  reviews  \\\n",
       "4627  7222452  36161241  Entire home/apt       Misericórdia       45   \n",
       "5538  9135994  34592928  Entire home/apt  Santa Maria Maior       42   \n",
       "5562  9193166  26494184  Entire home/apt      Santo António       36   \n",
       "\n",
       "      overall_satisfaction  accommodates  bedrooms  price  \n",
       "4627                   5.0             4       2.0  113.0  \n",
       "5538                   5.0             4       2.0   80.0  \n",
       "5562                   5.0             4       2.0   85.0  "
      ]
     },
     "execution_count": 8,
     "metadata": {},
     "output_type": "execute_result"
    }
   ],
   "source": [
    "filtro = data[data['reviews']>10]\n",
    "filtro = filtro[filtro[\"overall_satisfaction\"]>=4]\n",
    "filtro = filtro[filtro[\"bedrooms\"] == 2]\n",
    "filtro = filtro.sort_values('overall_satisfaction', ascending = False)\n",
    "filtro.head(3)"
   ]
  },
  {
   "cell_type": "markdown",
   "id": "a846020f-2793-4736-b533-dfa12dbc16b2",
   "metadata": {},
   "source": [
    "## CASO 02"
   ]
  },
  {
   "cell_type": "markdown",
   "id": "286d67c1-594e-4e54-84ce-afbd9a3fb0c6",
   "metadata": {},
   "source": [
    "Roberto es un casero que tiene una casa en Airbnb. De vez en cuando nos llama preguntando sobre cuales son las críticas de su alojamiento. Hoy está particularmente enfadado, ya que su hermana Clara ha puesto una casa en Airbnb y Roberto quiere asegurarse de que su casa tiene más críticas que las de Clara. Tenemos que crear un dataframe con las propiedades de ambos. Las id de las casas de Roberto y Clara son 97503 y 90387 respectivamente. Finalmente guardamos este dataframe como excel llamado \"roberto.xls"
   ]
  },
  {
   "cell_type": "code",
   "execution_count": 9,
   "id": "aff17b7a-388f-4a83-a1c0-d9ececfef83a",
   "metadata": {},
   "outputs": [],
   "source": [
    "roberto = data[data['room_id'].isin([97503,90387])]\n",
    "roberto.head()\n",
    "roberto.to_excel('roberto.xlsx', sheet_name='roberto')"
   ]
  },
  {
   "cell_type": "markdown",
   "id": "b97fc5f0-2596-4e6f-9043-d2c1d50874e3",
   "metadata": {},
   "source": [
    "## CASO 03"
   ]
  },
  {
   "cell_type": "markdown",
   "id": "26557524-badd-48c4-a7da-8f5c4716a51b",
   "metadata": {},
   "source": [
    "Diana va a Lisboa a pasar 3 noches y quiere conocer a gente nueva. Tiene un presupuesto de 50€ para su alojamiento. Debemos buscarle las 10 propiedades más baratas, dandole preferencia a aquellas que sean habitaciones compartidas (room_type == Shared room), y para aquellas viviendas compartidas debemos elegir aquellas con mejor puntuación."
   ]
  },
  {
   "cell_type": "code",
   "execution_count": 10,
   "id": "09cb4c14-7dc8-4443-b9c7-8cd494eadf2e",
   "metadata": {},
   "outputs": [
    {
     "data": {
      "text/html": [
       "<div>\n",
       "<style scoped>\n",
       "    .dataframe tbody tr th:only-of-type {\n",
       "        vertical-align: middle;\n",
       "    }\n",
       "\n",
       "    .dataframe tbody tr th {\n",
       "        vertical-align: top;\n",
       "    }\n",
       "\n",
       "    .dataframe thead th {\n",
       "        text-align: right;\n",
       "    }\n",
       "</style>\n",
       "<table border=\"1\" class=\"dataframe\">\n",
       "  <thead>\n",
       "    <tr style=\"text-align: right;\">\n",
       "      <th></th>\n",
       "      <th>room_id</th>\n",
       "      <th>host_id</th>\n",
       "      <th>room_type</th>\n",
       "      <th>neighborhood</th>\n",
       "      <th>reviews</th>\n",
       "      <th>overall_satisfaction</th>\n",
       "      <th>accommodates</th>\n",
       "      <th>bedrooms</th>\n",
       "      <th>price</th>\n",
       "    </tr>\n",
       "  </thead>\n",
       "  <tbody>\n",
       "    <tr>\n",
       "      <th>9065</th>\n",
       "      <td>14933182</td>\n",
       "      <td>91501272</td>\n",
       "      <td>Shared room</td>\n",
       "      <td>Santo António</td>\n",
       "      <td>5</td>\n",
       "      <td>5.0</td>\n",
       "      <td>8</td>\n",
       "      <td>1.0</td>\n",
       "      <td>11.0</td>\n",
       "    </tr>\n",
       "    <tr>\n",
       "      <th>4353</th>\n",
       "      <td>6728244</td>\n",
       "      <td>28812904</td>\n",
       "      <td>Shared room</td>\n",
       "      <td>Santa Maria Maior</td>\n",
       "      <td>8</td>\n",
       "      <td>4.5</td>\n",
       "      <td>1</td>\n",
       "      <td>1.0</td>\n",
       "      <td>11.0</td>\n",
       "    </tr>\n",
       "    <tr>\n",
       "      <th>5616</th>\n",
       "      <td>9317561</td>\n",
       "      <td>48360716</td>\n",
       "      <td>Shared room</td>\n",
       "      <td>Arroios</td>\n",
       "      <td>13</td>\n",
       "      <td>4.5</td>\n",
       "      <td>4</td>\n",
       "      <td>1.0</td>\n",
       "      <td>11.0</td>\n",
       "    </tr>\n",
       "    <tr>\n",
       "      <th>6640</th>\n",
       "      <td>11693356</td>\n",
       "      <td>28812904</td>\n",
       "      <td>Shared room</td>\n",
       "      <td>Santa Maria Maior</td>\n",
       "      <td>3</td>\n",
       "      <td>4.5</td>\n",
       "      <td>1</td>\n",
       "      <td>1.0</td>\n",
       "      <td>11.0</td>\n",
       "    </tr>\n",
       "    <tr>\n",
       "      <th>6641</th>\n",
       "      <td>11693442</td>\n",
       "      <td>28812904</td>\n",
       "      <td>Shared room</td>\n",
       "      <td>Santa Maria Maior</td>\n",
       "      <td>16</td>\n",
       "      <td>4.5</td>\n",
       "      <td>1</td>\n",
       "      <td>1.0</td>\n",
       "      <td>11.0</td>\n",
       "    </tr>\n",
       "    <tr>\n",
       "      <th>8908</th>\n",
       "      <td>14708916</td>\n",
       "      <td>91501272</td>\n",
       "      <td>Shared room</td>\n",
       "      <td>Santo António</td>\n",
       "      <td>18</td>\n",
       "      <td>4.5</td>\n",
       "      <td>4</td>\n",
       "      <td>1.0</td>\n",
       "      <td>11.0</td>\n",
       "    </tr>\n",
       "    <tr>\n",
       "      <th>9061</th>\n",
       "      <td>14932515</td>\n",
       "      <td>91501272</td>\n",
       "      <td>Shared room</td>\n",
       "      <td>Santo António</td>\n",
       "      <td>9</td>\n",
       "      <td>4.5</td>\n",
       "      <td>4</td>\n",
       "      <td>1.0</td>\n",
       "      <td>11.0</td>\n",
       "    </tr>\n",
       "    <tr>\n",
       "      <th>9062</th>\n",
       "      <td>14932518</td>\n",
       "      <td>91501272</td>\n",
       "      <td>Shared room</td>\n",
       "      <td>Santo António</td>\n",
       "      <td>7</td>\n",
       "      <td>4.5</td>\n",
       "      <td>4</td>\n",
       "      <td>1.0</td>\n",
       "      <td>11.0</td>\n",
       "    </tr>\n",
       "    <tr>\n",
       "      <th>11789</th>\n",
       "      <td>18154378</td>\n",
       "      <td>124601372</td>\n",
       "      <td>Shared room</td>\n",
       "      <td>Santo António</td>\n",
       "      <td>4</td>\n",
       "      <td>4.5</td>\n",
       "      <td>4</td>\n",
       "      <td>1.0</td>\n",
       "      <td>11.0</td>\n",
       "    </tr>\n",
       "    <tr>\n",
       "      <th>6058</th>\n",
       "      <td>10398958</td>\n",
       "      <td>32344156</td>\n",
       "      <td>Shared room</td>\n",
       "      <td>Misericórdia</td>\n",
       "      <td>39</td>\n",
       "      <td>4.5</td>\n",
       "      <td>8</td>\n",
       "      <td>1.0</td>\n",
       "      <td>12.0</td>\n",
       "    </tr>\n",
       "  </tbody>\n",
       "</table>\n",
       "</div>"
      ],
      "text/plain": [
       "        room_id    host_id    room_type       neighborhood  reviews  \\\n",
       "9065   14933182   91501272  Shared room      Santo António        5   \n",
       "4353    6728244   28812904  Shared room  Santa Maria Maior        8   \n",
       "5616    9317561   48360716  Shared room            Arroios       13   \n",
       "6640   11693356   28812904  Shared room  Santa Maria Maior        3   \n",
       "6641   11693442   28812904  Shared room  Santa Maria Maior       16   \n",
       "8908   14708916   91501272  Shared room      Santo António       18   \n",
       "9061   14932515   91501272  Shared room      Santo António        9   \n",
       "9062   14932518   91501272  Shared room      Santo António        7   \n",
       "11789  18154378  124601372  Shared room      Santo António        4   \n",
       "6058   10398958   32344156  Shared room       Misericórdia       39   \n",
       "\n",
       "       overall_satisfaction  accommodates  bedrooms  price  \n",
       "9065                    5.0             8       1.0   11.0  \n",
       "4353                    4.5             1       1.0   11.0  \n",
       "5616                    4.5             4       1.0   11.0  \n",
       "6640                    4.5             1       1.0   11.0  \n",
       "6641                    4.5             1       1.0   11.0  \n",
       "8908                    4.5             4       1.0   11.0  \n",
       "9061                    4.5             4       1.0   11.0  \n",
       "9062                    4.5             4       1.0   11.0  \n",
       "11789                   4.5             4       1.0   11.0  \n",
       "6058                    4.5             8       1.0   12.0  "
      ]
     },
     "execution_count": 10,
     "metadata": {},
     "output_type": "execute_result"
    }
   ],
   "source": [
    "diana = data[data['room_type'] == 'Shared room']\n",
    "diana = diana[diana['overall_satisfaction']>4]\n",
    "diana = diana.sort_values(by = ['price','overall_satisfaction'],ascending = [True,False])\n",
    "diana = diana.head(10)\n",
    "diana"
   ]
  },
  {
   "cell_type": "markdown",
   "id": "5eb6a5f6-c300-4d50-9e44-7787649c6c96",
   "metadata": {},
   "source": [
    "# USANDO MATPLOT"
   ]
  },
  {
   "cell_type": "code",
   "execution_count": 11,
   "id": "91a6e9a3-4478-495d-89d4-1d1e86a983cf",
   "metadata": {},
   "outputs": [
    {
     "name": "stdout",
     "output_type": "stream",
     "text": [
      "room_type\n",
      "Entire home/apt    9764\n",
      "Private room       3297\n",
      "Shared room         171\n",
      "Name: room_type, dtype: int64\n"
     ]
    },
    {
     "data": {
      "image/png": "[encoded data removed]",
      "text/plain": [
       "<Figure size 432x288 with 1 Axes>"
      ]
     },
     "metadata": {},
     "output_type": "display_data"
    }
   ],
   "source": [
    "import matplotlib.pyplot as plt\n",
    "import numpy as np\n",
    "%matplotlib inline\n",
    "data.groupby('room_type')['room_type'].count().plot(kind='pie')\n",
    "plt.ylabel('')\n",
    "a = data.groupby('room_type')['room_type'].count()\n",
    "print(a)"
   ]
  },
  {
   "cell_type": "code",
   "execution_count": 12,
   "id": "ba14a979-4ae4-44fe-bfde-4c6c06ab7643",
   "metadata": {},
   "outputs": [
    {
     "data": {
      "text/plain": [
       "<AxesSubplot:>"
      ]
     },
     "execution_count": 12,
     "metadata": {},
     "output_type": "execute_result"
    },
    {
     "data": {
      "image/png": "[encoded data removed]",
      "text/plain": [
       "<Figure size 432x288 with 1 Axes>"
      ]
     },
     "metadata": {
      "needs_background": "light"
     },
     "output_type": "display_data"
    }
   ],
   "source": [
    "room=data.loc[:,'room_type']\n",
    "room.hist()"
   ]
  },
  {
   "cell_type": "code",
   "execution_count": null,
   "id": "3dfe443a-3797-4cb2-8f0d-8ec10391a0f8",
   "metadata": {},
   "outputs": [],
   "source": []
  }
 ],
 "metadata": {
  "kernelspec": {
   "display_name": "Python 3",
   "language": "python",
   "name": "python3"
  },
  "language_info": {
   "codemirror_mode": {
    "name": "ipython",
    "version": 3
   },
   "file_extension": ".py",
   "mimetype": "text/x-python",
   "name": "python",
   "nbconvert_exporter": "python",
   "pygments_lexer": "ipython3",
   "version": "3.8.8"
  }
 },
 "nbformat": 4,
 "nbformat_minor": 5
}
